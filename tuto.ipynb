{
 "metadata": {
  "language_info": {
   "codemirror_mode": {
    "name": "ipython",
    "version": 3
   },
   "file_extension": ".py",
   "mimetype": "text/x-python",
   "name": "python",
   "nbconvert_exporter": "python",
   "pygments_lexer": "ipython3",
   "version": "3.8.1-final"
  },
  "orig_nbformat": 2,
  "kernelspec": {
   "name": "python3",
   "display_name": "Python 3.8.1 32-bit",
   "metadata": {
    "interpreter": {
     "hash": "7e6cf4927c70ef58d3b1d0ab029a1ff1fa38c7ca00d979852c05657a482612f3"
    }
   }
  }
 },
 "nbformat": 4,
 "nbformat_minor": 2,
 "cells": [
  {
   "cell_type": "code",
   "execution_count": 1,
   "metadata": {},
   "outputs": [],
   "source": [
    "import os\n",
    "os.chdir(r\"C:\\Users\\antoi\\OneDrive\\CENTRALE\\3A\\Mention - Design & System Sciences\\SM10 - Séquence Mention 1\\DDDA - Data-Driven Design Analysis\\TD1_ACP\")\n",
    "import pandas as pd"
   ]
  },
  {
   "cell_type": "code",
   "execution_count": 2,
   "metadata": {},
   "outputs": [
    {
     "output_type": "stream",
     "name": "stdout",
     "text": [
      "1.2.0\n"
     ]
    }
   ],
   "source": [
    "print(pd.__version__)"
   ]
  },
  {
   "cell_type": "code",
   "execution_count": 7,
   "metadata": {},
   "outputs": [
    {
     "output_type": "stream",
     "name": "stdout",
     "text": [
      "                  CYL  PUISS  LONG  LARG  POIDS  V_MAX\nModele                                                \nAlfasud TI       1350     79   393   161    870    165\nAudi 100         1588     85   468   177   1110    160\nSimca 1300       1294     68   424   168   1050    152\nCitroen GS Club  1222     59   412   161    930    151\nFiat 132         1585     98   439   164   1105    165\n"
     ]
    }
   ],
   "source": [
    "X = pd.read_excel(\"./excel_data/autos_acp_pour_python.xlsx\",sheet_name=0,header=0,index_col=0)\n",
    "print(X.head())"
   ]
  },
  {
   "cell_type": "code",
   "execution_count": 6,
   "metadata": {},
   "outputs": [
    {
     "output_type": "stream",
     "name": "stdout",
     "text": [
      "(18, 6)\nIndex(['CYL', 'PUISS', 'LONG', 'LARG', 'POIDS', 'V_MAX'], dtype='object')\n"
     ]
    }
   ],
   "source": [
    "print(X.shape)\n",
    "print(X.columns)"
   ]
  },
  {
   "cell_type": "code",
   "execution_count": null,
   "metadata": {},
   "outputs": [],
   "source": []
  }
 ]
}