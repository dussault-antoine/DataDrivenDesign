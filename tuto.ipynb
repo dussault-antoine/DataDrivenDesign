{
 "metadata": {
  "language_info": {
   "codemirror_mode": {
    "name": "ipython",
    "version": 3
   },
   "file_extension": ".py",
   "mimetype": "text/x-python",
   "name": "python",
   "nbconvert_exporter": "python",
   "pygments_lexer": "ipython3",
   "version": "3.8.1-final"
  },
  "orig_nbformat": 2,
  "kernelspec": {
   "name": "python3",
   "display_name": "Python 3.8.1 32-bit",
   "metadata": {
    "interpreter": {
     "hash": "7e6cf4927c70ef58d3b1d0ab029a1ff1fa38c7ca00d979852c05657a482612f3"
    }
   }
  }
 },
 "nbformat": 4,
 "nbformat_minor": 2,
 "cells": [
  {
   "cell_type": "code",
   "execution_count": 6,
   "metadata": {},
   "outputs": [],
   "source": [
    "import os\n",
    "os.chdir(r\"C:\\Users\\antoi\\OneDrive\\CENTRALE\\3A\\Mention - Design & System Sciences\\SM10 - Séquence Mention 1\\DDDA - Data-Driven Design Analysis\\TD1_ACP\")\n",
    "import pandas as pd"
   ]
  },
  {
   "cell_type": "code",
   "execution_count": 7,
   "metadata": {},
   "outputs": [
    {
     "output_type": "stream",
     "name": "stdout",
     "text": [
      "1.2.0\n"
     ]
    }
   ],
   "source": [
    "print(pd.__version__)"
   ]
  },
  {
   "cell_type": "code",
   "execution_count": 9,
   "metadata": {},
   "outputs": [
    {
     "output_type": "stream",
     "name": "stdout",
     "text": [
      "               Speedometer Dial position Display lay-out  \\\nDashboards                                                 \nAUDI A2            behind steering wheel        analogue   \nCITROEN C2         behind steering wheel         digital   \nFIAT Idea                  at the center        analogue   \nLANCIA Ypsilon             at the center        analogue   \nNISSAN Micra       behind steering wheel        analogue   \n\n               Air conditioner control Air vent shape Dashboard color  \\\nDashboards                                                              \nAUDI A2                         button         square   signle colour   \nCITROEN C2                       other        rounded   signle colour   \nFIAT Idea                        other         square     two colours   \nLANCIA Ypsilon                   other         square     two colours   \nNISSAN Micra                    button        rounded   signle colour   \n\n               Aerator Shape Arrangement space   Style lay-out  \\\nDashboards                                                       \nAUDI A2               square              many  Straight lines   \nCITROEN C2           rounded               few    curved lines   \nFIAT Idea             square              many  Straight lines   \nLANCIA Ypsilon        square              many    curved lines   \nNISSAN Micra         rounded               few  Straight lines   \n\n                Space organization  Control comprehensibility  \\\nDashboards                                                      \nAUDI A2                   0.342844                   1.671827   \nCITROEN C2                4.222948                   0.713956   \nFIAT Idea                 0.716346                   0.867155   \nLANCIA Ypsilon            0.278814                   0.543760   \nNISSAN Micra              0.620273                   1.541979   \n\n                Aerator lay-out  Arrangement space perception   Comfort  \\\nDashboards                                                                \nAUDI A2                0.879048                      0.727334  1.036712   \nCITROEN C2             0.795740                      1.033357  0.880840   \nFIAT Idea              1.101170                      1.697908  0.728046   \nLANCIA Ypsilon         2.247296                      0.861257  0.578794   \nNISSAN Micra           0.509412                      0.646843  1.334916   \n\n                Simplicity  Sportive lay-out  Masculinity   Quality   Novelty  \\\nDashboards                                                                      \nAUDI A2           1.188425          0.781624     1.242715  1.453181  0.696099   \nCITROEN C2        0.600121          0.402291     0.668643  0.510600  0.576911   \nFIAT Idea         0.755348          1.709609     0.946460  0.652642  1.053067   \nLANCIA Ypsilon    0.543030          2.040011     1.226196  0.995554  0.853958   \nNISSAN Micra      1.129685          0.668832     0.536898  1.102199  1.832417   \n\n                 Harmony  \nDashboards                \nAUDI A2         0.980191  \nCITROEN C2      0.594595  \nFIAT Idea       0.772249  \nLANCIA Ypsilon  0.831332  \nNISSAN Micra    1.076545  \n"
     ]
    }
   ],
   "source": [
    "X = pd.read_excel(\"dashboard_data.xlsx\",sheet_name=0,header=0,index_col=0)\n",
    "print(X.head())"
   ]
  },
  {
   "cell_type": "code",
   "execution_count": 11,
   "metadata": {},
   "outputs": [
    {
     "output_type": "stream",
     "name": "stdout",
     "text": [
      "(110, 19)\nIndex(['Speedometer Dial position', 'Display lay-out',\n       'Air conditioner control', 'Air vent shape', 'Dashboard color',\n       'Aerator Shape', 'Arrangement space', 'Style lay-out',\n       'Space organization', 'Control comprehensibility', 'Aerator lay-out',\n       'Arrangement space perception', 'Comfort', 'Simplicity',\n       'Sportive lay-out', 'Masculinity', 'Quality', 'Novelty', 'Harmony'],\n      dtype='object')\n"
     ]
    }
   ],
   "source": [
    "print(X.shape)\n",
    "print(X.columns)"
   ]
  },
  {
   "cell_type": "code",
   "execution_count": null,
   "metadata": {},
   "outputs": [],
   "source": []
  }
 ]
}