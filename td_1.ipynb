{
 "metadata": {
  "language_info": {
   "codemirror_mode": {
    "name": "ipython",
    "version": 3
   },
   "file_extension": ".py",
   "mimetype": "text/x-python",
   "name": "python",
   "nbconvert_exporter": "python",
   "pygments_lexer": "ipython3",
   "version": "3.8.1-final"
  },
  "orig_nbformat": 2,
  "kernelspec": {
   "name": "python3",
   "display_name": "Python 3.8.1 32-bit",
   "metadata": {
    "interpreter": {
     "hash": "7e6cf4927c70ef58d3b1d0ab029a1ff1fa38c7ca00d979852c05657a482612f3"
    }
   }
  }
 },
 "nbformat": 4,
 "nbformat_minor": 2,
 "cells": [
  {
   "cell_type": "code",
   "execution_count": 7,
   "metadata": {},
   "outputs": [
    {
     "output_type": "error",
     "ename": "ModuleNotFoundError",
     "evalue": "No module named 'sklearn'",
     "traceback": [
      "\u001b[1;31m---------------------------------------------------------------------------\u001b[0m",
      "\u001b[1;31mModuleNotFoundError\u001b[0m                       Traceback (most recent call last)",
      "\u001b[1;32m<ipython-input-7-d338b85e4557>\u001b[0m in \u001b[0;36m<module>\u001b[1;34m\u001b[0m\n\u001b[0;32m      2\u001b[0m \u001b[0mos\u001b[0m\u001b[1;33m.\u001b[0m\u001b[0mchdir\u001b[0m\u001b[1;33m(\u001b[0m\u001b[1;34mr\"C:\\Users\\antoi\\OneDrive\\CENTRALE\\3A\\Mention - Design & System Sciences\\SM10 - Séquence Mention 1\\DDDA - Data-Driven Design Analysis\\TD1_ACP\"\u001b[0m\u001b[1;33m)\u001b[0m\u001b[1;33m\u001b[0m\u001b[1;33m\u001b[0m\u001b[0m\n\u001b[0;32m      3\u001b[0m \u001b[1;32mimport\u001b[0m \u001b[0mpandas\u001b[0m \u001b[1;32mas\u001b[0m \u001b[0mpd\u001b[0m\u001b[1;33m\u001b[0m\u001b[1;33m\u001b[0m\u001b[0m\n\u001b[1;32m----> 4\u001b[1;33m \u001b[1;32mimport\u001b[0m \u001b[0msklearn\u001b[0m\u001b[1;33m\u001b[0m\u001b[1;33m\u001b[0m\u001b[0m\n\u001b[0m",
      "\u001b[1;31mModuleNotFoundError\u001b[0m: No module named 'sklearn'"
     ]
    }
   ],
   "source": [
    "import os\n",
    "os.chdir(r\"C:\\Users\\antoi\\OneDrive\\CENTRALE\\3A\\Mention - Design & System Sciences\\SM10 - Séquence Mention 1\\DDDA - Data-Driven Design Analysis\\TD1_ACP\")\n",
    "import pandas as pd\n",
    "import sklearn"
   ]
  },
  {
   "cell_type": "code",
   "execution_count": 3,
   "metadata": {},
   "outputs": [
    {
     "output_type": "stream",
     "name": "stdout",
     "text": [
      "1.2.0\n"
     ]
    }
   ],
   "source": [
    "print(pd.__version__)"
   ]
  },
  {
   "cell_type": "code",
   "execution_count": 4,
   "metadata": {},
   "outputs": [
    {
     "output_type": "stream",
     "name": "stdout",
     "text": [
      "(110, 19)\n"
     ]
    }
   ],
   "source": [
    "X = pd.read_excel(\"dashboard_data.xlsx\",sheet_name=0,header=0,index_col=0)\n",
    "print(X.shape)"
   ]
  },
  {
   "cell_type": "code",
   "execution_count": 5,
   "metadata": {},
   "outputs": [
    {
     "output_type": "stream",
     "name": "stdout",
     "text": [
      "               Speedometer Dial position Display lay-out  \\\nDashboards                                                 \nAUDI A2            behind steering wheel        analogue   \nCITROEN C2         behind steering wheel         digital   \nFIAT Idea                  at the center        analogue   \nLANCIA Ypsilon             at the center        analogue   \nNISSAN Micra       behind steering wheel        analogue   \n\n               Air conditioner control Air vent shape Dashboard color  \\\nDashboards                                                              \nAUDI A2                         button         square   signle colour   \nCITROEN C2                       other        rounded   signle colour   \nFIAT Idea                        other         square     two colours   \nLANCIA Ypsilon                   other         square     two colours   \nNISSAN Micra                    button        rounded   signle colour   \n\n               Aerator Shape Arrangement space   Style lay-out  \\\nDashboards                                                       \nAUDI A2               square              many  Straight lines   \nCITROEN C2           rounded               few    curved lines   \nFIAT Idea             square              many  Straight lines   \nLANCIA Ypsilon        square              many    curved lines   \nNISSAN Micra         rounded               few  Straight lines   \n\n                Space organization  Control comprehensibility  \\\nDashboards                                                      \nAUDI A2                   0.342844                   1.671827   \nCITROEN C2                4.222948                   0.713956   \nFIAT Idea                 0.716346                   0.867155   \nLANCIA Ypsilon            0.278814                   0.543760   \nNISSAN Micra              0.620273                   1.541979   \n\n                Aerator lay-out  Arrangement space perception   Comfort  \\\nDashboards                                                                \nAUDI A2                0.879048                      0.727334  1.036712   \nCITROEN C2             0.795740                      1.033357  0.880840   \nFIAT Idea              1.101170                      1.697908  0.728046   \nLANCIA Ypsilon         2.247296                      0.861257  0.578794   \nNISSAN Micra           0.509412                      0.646843  1.334916   \n\n                Simplicity  Sportive lay-out  Masculinity   Quality   Novelty  \\\nDashboards                                                                      \nAUDI A2           1.188425          0.781624     1.242715  1.453181  0.696099   \nCITROEN C2        0.600121          0.402291     0.668643  0.510600  0.576911   \nFIAT Idea         0.755348          1.709609     0.946460  0.652642  1.053067   \nLANCIA Ypsilon    0.543030          2.040011     1.226196  0.995554  0.853958   \nNISSAN Micra      1.129685          0.668832     0.536898  1.102199  1.832417   \n\n                 Harmony  \nDashboards                \nAUDI A2         0.980191  \nCITROEN C2      0.594595  \nFIAT Idea       0.772249  \nLANCIA Ypsilon  0.831332  \nNISSAN Micra    1.076545  \n"
     ]
    }
   ],
   "source": [
    "print(X.head())"
   ]
  },
  {
   "cell_type": "code",
   "execution_count": 6,
   "metadata": {},
   "outputs": [
    {
     "output_type": "stream",
     "name": "stdout",
     "text": [
      "               Speedometer Dial position Display lay-out  \\\nDashboards                                                 \nAUDI A2            behind steering wheel        analogue   \nCITROEN C2         behind steering wheel         digital   \nFIAT Idea                  at the center        analogue   \nLANCIA Ypsilon             at the center        analogue   \nNISSAN Micra       behind steering wheel        analogue   \n...                                  ...             ...   \nPEUGEOT 206        behind steering wheel        analogue   \nRENAULT Clio       behind steering wheel        analogue   \nRENAULT Modus              at the center         digital   \nTOYOTA Yaris               at the center         digital   \nVW Polo            behind steering wheel        analogue   \n\n               Air conditioner control Air vent shape Dashboard color  \\\nDashboards                                                              \nAUDI A2                         button         square   signle colour   \nCITROEN C2                       other        rounded   signle colour   \nFIAT Idea                        other         square     two colours   \nLANCIA Ypsilon                   other         square     two colours   \nNISSAN Micra                    button        rounded   signle colour   \n...                                ...            ...             ...   \nPEUGEOT 206                      other        rounded     two colours   \nRENAULT Clio                     other         square   signle colour   \nRENAULT Modus                   button        rounded     two colours   \nTOYOTA Yaris                     other        rounded   signle colour   \nVW Polo                          other         square   signle colour   \n\n               Aerator Shape Arrangement space   Style lay-out  \\\nDashboards                                                       \nAUDI A2               square              many  Straight lines   \nCITROEN C2           rounded               few    curved lines   \nFIAT Idea             square              many  Straight lines   \nLANCIA Ypsilon        square              many    curved lines   \nNISSAN Micra         rounded               few  Straight lines   \n...                      ...               ...             ...   \nPEUGEOT 206          rounded               few    curved lines   \nRENAULT Clio          square               few  Straight lines   \nRENAULT Modus        rounded              many    curved lines   \nTOYOTA Yaris         rounded              many    curved lines   \nVW Polo               square               few  Straight lines   \n\n                Space organization  Control comprehensibility  \\\nDashboards                                                      \nAUDI A2                   0.342844                   1.671827   \nCITROEN C2                4.222948                   0.713956   \nFIAT Idea                 0.716346                   0.867155   \nLANCIA Ypsilon            0.278814                   0.543760   \nNISSAN Micra              0.620273                   1.541979   \n...                            ...                        ...   \nPEUGEOT 206               1.222919                   0.758837   \nRENAULT Clio              2.015923                   1.603809   \nRENAULT Modus             0.386964                   0.758852   \nTOYOTA Yaris              0.792887                   1.457325   \nVW Polo                   1.396180                   0.692471   \n\n                Aerator lay-out  Arrangement space perception   Comfort  \\\nDashboards                                                                \nAUDI A2                0.879048                      0.727334  1.036712   \nCITROEN C2             0.795740                      1.033357  0.880840   \nFIAT Idea              1.101170                      1.697908  0.728046   \nLANCIA Ypsilon         2.247296                      0.861257  0.578794   \nNISSAN Micra           0.509412                      0.646843  1.334916   \n...                         ...                           ...       ...   \nPEUGEOT 206            1.903812                      0.619971  0.958625   \nRENAULT Clio           0.842543                      1.085233  0.965033   \nRENAULT Modus          2.267342                      1.441483  0.926369   \nTOYOTA Yaris           0.311783                      1.701380  1.567091   \nVW Polo                0.721000                      0.748664  1.549198   \n\n                Simplicity  Sportive lay-out  Masculinity   Quality   Novelty  \\\nDashboards                                                                      \nAUDI A2           1.188425          0.781624     1.242715  1.453181  0.696099   \nCITROEN C2        0.600121          0.402291     0.668643  0.510600  0.576911   \nFIAT Idea         0.755348          1.709609     0.946460  0.652642  1.053067   \nLANCIA Ypsilon    0.543030          2.040011     1.226196  0.995554  0.853958   \nNISSAN Micra      1.129685          0.668832     0.536898  1.102199  1.832417   \n...                    ...               ...          ...       ...       ...   \nPEUGEOT 206       1.934273          1.351034     0.237417  0.779443  0.700603   \nRENAULT Clio      1.076075          0.451035     1.191695  0.402956  0.256426   \nRENAULT Modus     1.347674          0.589660     0.202695  1.073784  1.464098   \nTOYOTA Yaris      1.219108          0.567516     1.299682  0.655096  0.609554   \nVW Polo           0.476344          0.927617     2.724929  0.662213  0.451273   \n\n                 Harmony  \nDashboards                \nAUDI A2         0.980191  \nCITROEN C2      0.594595  \nFIAT Idea       0.772249  \nLANCIA Ypsilon  0.831332  \nNISSAN Micra    1.076545  \n...                  ...  \nPEUGEOT 206     0.533067  \nRENAULT Clio    1.109273  \nRENAULT Modus   0.541080  \nTOYOTA Yaris    0.818577  \nVW Polo         0.650110  \n\n[110 rows x 19 columns]\n"
     ]
    }
   ],
   "source": [
    "print(X)"
   ]
  },
  {
   "cell_type": "code",
   "execution_count": null,
   "metadata": {},
   "outputs": [],
   "source": []
  }
 ]
}