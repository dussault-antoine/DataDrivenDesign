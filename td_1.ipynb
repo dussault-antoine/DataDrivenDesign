{
 "metadata": {
  "language_info": {
   "codemirror_mode": {
    "name": "ipython",
    "version": 3
   },
   "file_extension": ".py",
   "mimetype": "text/x-python",
   "name": "python",
   "nbconvert_exporter": "python",
   "pygments_lexer": "ipython3",
   "version": "3.8.1-final"
  },
  "orig_nbformat": 2,
  "kernelspec": {
   "name": "python3",
   "display_name": "Python 3.8.1 32-bit",
   "metadata": {
    "interpreter": {
     "hash": "7e6cf4927c70ef58d3b1d0ab029a1ff1fa38c7ca00d979852c05657a482612f3"
    }
   }
  }
 },
 "nbformat": 4,
 "nbformat_minor": 2,
 "cells": [
  {
   "cell_type": "code",
   "execution_count": 38,
   "metadata": {},
   "outputs": [],
   "source": [
    "import os\n",
    "os.chdir(r\"C:\\Users\\antoi\\OneDrive\\CENTRALE\\3A\\Mention - Design & System Sciences\\SM10 - Séquence Mention 1\\DDDA - Data-Driven Design Analysis\\TD1_ACP\")\n",
    "import pandas as pd\n",
    "import sklearn\n",
    "from sklearn.preprocessing import StandardScaler\n",
    "import numpy as np\n",
    "from sklearn.decomposition import PCA"
   ]
  },
  {
   "cell_type": "code",
   "execution_count": 39,
   "metadata": {},
   "outputs": [
    {
     "output_type": "stream",
     "name": "stdout",
     "text": [
      "1.2.0\n"
     ]
    }
   ],
   "source": [
    "print(pd.__version__)"
   ]
  },
  {
   "cell_type": "code",
   "execution_count": 51,
   "metadata": {},
   "outputs": [
    {
     "output_type": "stream",
     "name": "stdout",
     "text": [
      "(110, 19)\n"
     ]
    }
   ],
   "source": [
    "X = pd.read_excel(\"./excel_data/dashboard_data.xlsx\",sheet_name=0,header=0,index_col=0)\n",
    "print(X.shape)"
   ]
  },
  {
   "cell_type": "code",
   "execution_count": 41,
   "metadata": {},
   "outputs": [
    {
     "output_type": "stream",
     "name": "stdout",
     "text": [
      "               Speedometer Dial position Display lay-out  \\\nDashboards                                                 \nAUDI A2            behind steering wheel        analogue   \nCITROEN C2         behind steering wheel         digital   \nFIAT Idea                  at the center        analogue   \nLANCIA Ypsilon             at the center        analogue   \nNISSAN Micra       behind steering wheel        analogue   \n\n               Air conditioner control Air vent shape Dashboard color  \\\nDashboards                                                              \nAUDI A2                         button         square   signle colour   \nCITROEN C2                       other        rounded   signle colour   \nFIAT Idea                        other         square     two colours   \nLANCIA Ypsilon                   other         square     two colours   \nNISSAN Micra                    button        rounded   signle colour   \n\n               Aerator Shape Arrangement space   Style lay-out  \\\nDashboards                                                       \nAUDI A2               square              many  Straight lines   \nCITROEN C2           rounded               few    curved lines   \nFIAT Idea             square              many  Straight lines   \nLANCIA Ypsilon        square              many    curved lines   \nNISSAN Micra         rounded               few  Straight lines   \n\n                Space organization  Control comprehensibility  \\\nDashboards                                                      \nAUDI A2                   0.342844                   1.671827   \nCITROEN C2                4.222948                   0.713956   \nFIAT Idea                 0.716346                   0.867155   \nLANCIA Ypsilon            0.278814                   0.543760   \nNISSAN Micra              0.620273                   1.541979   \n\n                Aerator lay-out  Arrangement space perception   Comfort  \\\nDashboards                                                                \nAUDI A2                0.879048                      0.727334  1.036712   \nCITROEN C2             0.795740                      1.033357  0.880840   \nFIAT Idea              1.101170                      1.697908  0.728046   \nLANCIA Ypsilon         2.247296                      0.861257  0.578794   \nNISSAN Micra           0.509412                      0.646843  1.334916   \n\n                Simplicity  Sportive lay-out  Masculinity   Quality   Novelty  \\\nDashboards                                                                      \nAUDI A2           1.188425          0.781624     1.242715  1.453181  0.696099   \nCITROEN C2        0.600121          0.402291     0.668643  0.510600  0.576911   \nFIAT Idea         0.755348          1.709609     0.946460  0.652642  1.053067   \nLANCIA Ypsilon    0.543030          2.040011     1.226196  0.995554  0.853958   \nNISSAN Micra      1.129685          0.668832     0.536898  1.102199  1.832417   \n\n                 Harmony  \nDashboards                \nAUDI A2         0.980191  \nCITROEN C2      0.594595  \nFIAT Idea       0.772249  \nLANCIA Ypsilon  0.831332  \nNISSAN Micra    1.076545  \n"
     ]
    }
   ],
   "source": [
    "print(X.head())"
   ]
  },
  {
   "cell_type": "code",
   "execution_count": 42,
   "metadata": {},
   "outputs": [
    {
     "output_type": "stream",
     "name": "stdout",
     "text": [
      "Index(['Speedometer Dial position', 'Display lay-out',\n       'Air conditioner control', 'Air vent shape', 'Dashboard color',\n       'Aerator Shape', 'Arrangement space', 'Style lay-out',\n       'Space organization', 'Control comprehensibility', 'Aerator lay-out',\n       'Arrangement space perception', 'Comfort', 'Simplicity',\n       'Sportive lay-out', 'Masculinity', 'Quality', 'Novelty', 'Harmony'],\n      dtype='object')\n"
     ]
    }
   ],
   "source": [
    "print(X.columns)\n",
    "X = X.drop(['Speedometer Dial position', 'Display lay-out', 'Air conditioner control', 'Air vent shape', 'Dashboard color', 'Aerator Shape', 'Arrangement space', 'Style lay-out'], axis=1)"
   ]
  },
  {
   "cell_type": "code",
   "execution_count": 43,
   "metadata": {},
   "outputs": [
    {
     "output_type": "stream",
     "name": "stdout",
     "text": [
      "Index(['Space organization', 'Control comprehensibility', 'Aerator lay-out',\n       'Arrangement space perception', 'Comfort', 'Simplicity',\n       'Sportive lay-out', 'Masculinity', 'Quality', 'Novelty', 'Harmony'],\n      dtype='object')\n"
     ]
    }
   ],
   "source": [
    "print(X.columns)"
   ]
  },
  {
   "cell_type": "code",
   "execution_count": 44,
   "metadata": {},
   "outputs": [
    {
     "output_type": "stream",
     "name": "stdout",
     "text": [
      "[[-1.06426672  1.0907492  -0.22841642 ...  1.22454456 -0.61630076\n  -0.03387098]\n [ 5.05510074 -0.46683318 -0.41139976 ... -1.17437316 -0.86714974\n  -0.99914251]\n [-0.47521147 -0.21771742  0.25946688 ... -0.81286967  0.13499506\n  -0.55441577]\n ...\n [-0.99468363 -0.39382816  2.82092276 ...  0.25895862  1.00007509\n  -1.13310752]\n [-0.35449617  0.74194941 -1.47439356 ... -0.80662409 -0.79844809\n  -0.43844094]\n [ 0.59696574 -0.50176911 -0.57556423 ... -0.78850943 -1.13157545\n  -0.86016944]]\n"
     ]
    }
   ],
   "source": [
    "sc = StandardScaler()\n",
    "Z = sc.fit_transform(X)\n",
    "print(Z)"
   ]
  },
  {
   "cell_type": "code",
   "execution_count": 45,
   "metadata": {},
   "outputs": [
    {
     "output_type": "stream",
     "name": "stdout",
     "text": [
      "[ 1.15059477e-16 -1.66533454e-16  2.03877319e-16 -1.29189588e-16\n  2.01858732e-16 -2.22044605e-17  3.33319231e-16  2.50304827e-16\n -3.03797391e-16 -9.68921912e-17 -1.00929366e-17]\n[1. 1. 1. 1. 1. 1. 1. 1. 1. 1. 1.]\n"
     ]
    }
   ],
   "source": [
    "#on vérifie la distribution normale (0,1)\n",
    "print(np.mean(Z, axis=0))\n",
    "print(np.std(Z, axis=0))"
   ]
  },
  {
   "cell_type": "code",
   "execution_count": 46,
   "metadata": {},
   "outputs": [
    {
     "output_type": "stream",
     "name": "stdout",
     "text": [
      "PCA(svd_solver='full')\n"
     ]
    }
   ],
   "source": [
    "acp = PCA(svd_solver='full')\n",
    "print(acp)"
   ]
  },
  {
   "cell_type": "code",
   "execution_count": 48,
   "metadata": {},
   "outputs": [
    {
     "output_type": "stream",
     "name": "stdout",
     "text": [
      "11\n"
     ]
    }
   ],
   "source": [
    "coord = acp.fit_transform(Z)\n",
    "print(acp.n_components_)"
   ]
  },
  {
   "cell_type": "code",
   "execution_count": 49,
   "metadata": {},
   "outputs": [
    {
     "output_type": "stream",
     "name": "stdout",
     "text": [
      "[2.11978192e+00 1.59747483e+00 1.52345071e+00 1.23711707e+00\n 1.01529508e+00 9.50255603e-01 8.16275136e-01 6.56111588e-01\n 6.05813486e-01 5.79342018e-01 8.62831108e-31]\n"
     ]
    }
   ],
   "source": [
    "print(acp.explained_variance_)"
   ]
  },
  {
   "cell_type": "code",
   "execution_count": 50,
   "metadata": {},
   "outputs": [
    {
     "output_type": "stream",
     "name": "stdout",
     "text": [
      "[1.52005338e+01 1.31956340e+01 1.28862767e+01 1.16123107e+01\n 1.05198462e+01 1.01773209e+01 9.43260250e+00 8.45672295e+00\n 8.12611039e+00 7.94658921e+00 9.69786527e-15]\n"
     ]
    }
   ],
   "source": []
  },
  {
   "cell_type": "code",
   "execution_count": null,
   "metadata": {},
   "outputs": [],
   "source": []
  }
 ]
}